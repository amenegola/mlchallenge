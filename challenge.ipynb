{
 "cells": [
  {
   "cell_type": "markdown",
   "metadata": {},
   "source": [
    "# Desafio Machine Learning Engineer\n",
    "# Afonso Menegola"
   ]
  },
  {
   "cell_type": "markdown",
   "metadata": {},
   "source": [
    "## Introdução\n",
    "\n",
    "Olá! Bem-vindo à minha solução do desafio. Neste desafio, eu realizei uma limpeza das duas bases (pdpviews.ndjson e transactions.ndjson) de forma que eu só tenha browser_ids que estão presentes nas duas bases. Depois, eu aplico o algoritmo de recomendação colaborativa Alternating Least Squares. Finalmente, eu salvo as predições em um banco de dados não relacional MongoDB, e crio uma API que recebe um JSON no formato da base pdpviews e retorna o browser_id com as 10 recomendações mais prováveis.\n",
    "\n",
    "Ah, meu computador tem 16GB RAM, então eu usei e abusei do meu hardware. Se quiser reproduzir o código, tenha certeza de ter pelo menos essa quantidade de memória :)\n",
    "\n",
    "## Importando bibliotecas"
   ]
  },
  {
   "cell_type": "code",
   "execution_count": 1,
   "metadata": {},
   "outputs": [],
   "source": [
    "import numpy as np\n",
    "import pandas as pd\n",
    "import requests, json\n",
    "\n",
    "import matplotlib.pyplot as plt\n",
    "from PIL import Image\n",
    "%matplotlib inline\n",
    "\n",
    "import scipy.sparse as sparse\n",
    "from scipy.sparse.linalg import spsolve\n",
    "\n",
    "from sklearn import metrics\n",
    "import implicit\n",
    "\n",
    "import tqdm"
   ]
  },
  {
   "cell_type": "markdown",
   "metadata": {},
   "source": [
    "## Estudo e limpeza dos dados\n",
    "\n",
    "Vamos começar carregando a base de transações:"
   ]
  },
  {
   "cell_type": "code",
   "execution_count": 2,
   "metadata": {},
   "outputs": [],
   "source": [
    "transactions = pd.read_json('data/transactions.ndjson', lines=True)"
   ]
  },
  {
   "cell_type": "markdown",
   "metadata": {},
   "source": [
    "Eu estava curioso para saber qual a porcentagem de pessoas compra por dispositivo móvel:"
   ]
  },
  {
   "cell_type": "code",
   "execution_count": 56,
   "metadata": {},
   "outputs": [
    {
     "data": {
      "text/plain": [
       "desktop    62.97748\n",
       "mobile     37.02252\n",
       "Name: source, dtype: float64"
      ]
     },
     "execution_count": 56,
     "metadata": {},
     "output_type": "execute_result"
    }
   ],
   "source": [
    "(transactions.source.value_counts()/len(transactions))*100"
   ]
  },
  {
   "cell_type": "code",
   "execution_count": 57,
   "metadata": {},
   "outputs": [
    {
     "data": {
      "text/plain": [
       "1824954"
      ]
     },
     "execution_count": 57,
     "metadata": {},
     "output_type": "execute_result"
    }
   ],
   "source": [
    "len(transactions.user_id.unique())"
   ]
  },
  {
   "cell_type": "markdown",
   "metadata": {},
   "source": [
    "Nossa, 37% das transações são com dispositivos móveis! Estou realmente impressionado. Também podemos ver que temos quase 2 milhões de usuários na base de transações. Para que eu crie um sistema de recomendação, o ideal é eu conseguir conectar os browser_ids com user_ids, de forma que eu não esteja recomendando produtos diferentes para a mesma pessoa, além de que eu não estaria agrupando todas as interações de um usuário, perdendo poder de previsibilidade. Partindo da premissa de que uma compra só pode ser realizada por um usuário logado, o user_id vai estar associado com aquela conta. Vamos ver quantos usuários fazem comprar em mais de um browser_id (e vice-versa):"
   ]
  },
  {
   "cell_type": "code",
   "execution_count": 58,
   "metadata": {},
   "outputs": [
    {
     "name": "stdout",
     "output_type": "stream",
     "text": [
      "Users who buy from different browser_id is 19.01% of the database\n",
      "Users who buy from two different browser_id is 12.29% of the database\n",
      "Users who buy from three different browser_id is 3.92% of the database\n",
      "Users who buy from four or more different browser_id is 2.80% of the database\n"
     ]
    }
   ],
   "source": [
    "users_different_browsers = (transactions.groupby('user_id').browser_id.count() > 1).sum()\n",
    "users_different_browsers_2 = (transactions.groupby('user_id').browser_id.count() == 2).sum()\n",
    "users_different_browsers_3 = (transactions.groupby('user_id').browser_id.count() == 3).sum()\n",
    "users_different_browsers_4_or_more = (transactions.groupby('user_id').browser_id.count() > 3).sum()\n",
    "\n",
    "print('Users who buy from different browser_id is {0:.2f}% of the database'.format((users_different_browsers/len(transactions))*100))\n",
    "print('Users who buy from two different browser_id is {0:.2f}% of the database'.format((users_different_browsers_2/len(transactions))*100))\n",
    "print('Users who buy from three different browser_id is {0:.2f}% of the database'.format((users_different_browsers_3/len(transactions))*100))\n",
    "print('Users who buy from four or more different browser_id is {0:.2f}% of the database'.format((users_different_browsers_4_or_more/len(transactions))*100))\n"
   ]
  },
  {
   "cell_type": "code",
   "execution_count": 59,
   "metadata": {},
   "outputs": [
    {
     "name": "stdout",
     "output_type": "stream",
     "text": [
      "Browsers with same user_id is 14.46% of the database\n"
     ]
    }
   ],
   "source": [
    "browsers_different_users = (transactions.groupby('browser_id').user_id.count() > 1).sum()\n",
    "print('Browsers with same user_id is {0:.2f}% of the database'.format((browsers_different_users/len(transactions))*100))"
   ]
  },
  {
   "cell_type": "markdown",
   "metadata": {},
   "source": [
    "Podemos observar que aparecem todos os casos:\n",
    "\n",
    "* A mesma pessoa (user_id) pode comprar de diferentes dispositivos (browser_id)\n",
    "* O mesmo dispositivo (browser_id) pode servir mais de uma pessoa (user_id)\n",
    "\n",
    "O correto aqui seria criar uma tabela que conectasse os browser_ids com os user_ids, de forma que eu gerasse um id único para cada usuário. No momento que percebi isso, eu tive que fazer uma escolha: ou eu criava essa tabela depara (mais trabalhoso, mas leva a melhores resultados), ou eu continuava o desafio apenas com os browser_id (mais fácil, mas impacta negativamente nos resultados de recomendação). Eu decidi ir pelo caminho mais fácil, pois achei que era mais prudente dado o tempo que eu tinha pra realizar o desafio.\n",
    "\n",
    "Farei um sistema de recomendação que considera as interações dos usuários com os produtos. As bases me fornecem informações de compras e informações de visualizações. Portanto, para este desafio, eu vou apenas considerar as visualizações dos browser_ids que estão na base de transações (acabaram realizando uma compra), reduzindo consideravelmente a base de visualizações.\n",
    "\n",
    "Com isso em mente, decidi como eu iria criar a minha base para criar um sistema de recomendação:\n",
    "\n",
    "* O único id que vou utilizar é o browser_id\n",
    "* Vou utilizar apenas os browser_ids que estão presentes nas duas bases (pdpviews e transactions)\n",
    "\n",
    "Eu até tenho memória de sobra, mas não consigo carregar a base pdpviews no computador. Resolvi realizar a leitura do dataset em chunks, para extrair um dataframe que contém apenas as visualizações de usuários que realizaram uma compra (que estão na base transactions):"
   ]
  },
  {
   "cell_type": "code",
   "execution_count": 3,
   "metadata": {},
   "outputs": [],
   "source": [
    "unique_buying_browsers = transactions.browser_id.unique()"
   ]
  },
  {
   "cell_type": "code",
   "execution_count": null,
   "metadata": {},
   "outputs": [],
   "source": [
    "views_data = pd.read_json('data/pdpviews.ndjson', lines=True, chunksize=1000000)\n",
    "\n",
    "views_data_clean = pd.DataFrame([],columns=['browser_id', 'product_id', 'timestamp'])\n",
    "\n",
    "for views_chunk in views_data:\n",
    "    views_chunk = views_chunk.drop(['price','source','user_id'],axis=1)\n",
    "    views_data_clean = views_data_clean.append(views_chunk.loc[views_chunk.browser_id.isin(unique_buying_browsers)])"
   ]
  },
  {
   "cell_type": "code",
   "execution_count": null,
   "metadata": {},
   "outputs": [],
   "source": [
    "#persistência dos dados\n",
    "views_data_clean.to_csv('data/views_data_clean.csv',index=False)"
   ]
  },
  {
   "cell_type": "code",
   "execution_count": 16,
   "metadata": {},
   "outputs": [],
   "source": [
    "views_data_clean = pd.read_csv('data/views_data_clean.csv')"
   ]
  },
  {
   "cell_type": "markdown",
   "metadata": {},
   "source": [
    "Com a base de visualizações limpa, vou realizar a limpeza da base de transações, que consiste em estruturar os dados das compras:"
   ]
  },
  {
   "cell_type": "code",
   "execution_count": 5,
   "metadata": {},
   "outputs": [],
   "source": [
    "transactions = pd.read_json('data/transactions.ndjson', lines=True).drop(['source','user_id'],axis=1)"
   ]
  },
  {
   "cell_type": "code",
   "execution_count": 6,
   "metadata": {},
   "outputs": [],
   "source": [
    "carts = transactions[['transaction_id','items']]\n",
    "rows = []\n",
    "\n",
    "_ = carts.apply(lambda row: [rows.append([row['transaction_id'], nn]) \n",
    "                         for nn in row['items']], axis=1)\n",
    "\n",
    "carts_expanded = pd.DataFrame(rows, columns=carts.columns).set_index(['transaction_id'])"
   ]
  },
  {
   "cell_type": "code",
   "execution_count": 8,
   "metadata": {
    "scrolled": true
   },
   "outputs": [
    {
     "data": {
      "application/vnd.jupyter.widget-view+json": {
       "model_id": "496adc00851641e8825200b8d0232d1c",
       "version_major": 2,
       "version_minor": 0
      },
      "text/html": [
       "<p>Failed to display Jupyter Widget of type <code>HBox</code>.</p>\n",
       "<p>\n",
       "  If you're reading this message in the Jupyter Notebook or JupyterLab Notebook, it may mean\n",
       "  that the widgets JavaScript is still loading. If this message persists, it\n",
       "  likely means that the widgets JavaScript library is either not installed or\n",
       "  not enabled. See the <a href=\"https://ipywidgets.readthedocs.io/en/stable/user_install.html\">Jupyter\n",
       "  Widgets Documentation</a> for setup instructions.\n",
       "</p>\n",
       "<p>\n",
       "  If you're reading this message in another frontend (for example, a static\n",
       "  rendering on GitHub or <a href=\"https://nbviewer.jupyter.org/\">NBViewer</a>),\n",
       "  it may mean that your frontend doesn't currently support widgets.\n",
       "</p>\n"
      ],
      "text/plain": [
       "HBox(children=(IntProgress(value=0, max=220), HTML(value='')))"
      ]
     },
     "metadata": {},
     "output_type": "display_data"
    },
    {
     "name": "stdout",
     "output_type": "stream",
     "text": [
      "\n"
     ]
    }
   ],
   "source": [
    "#do it in chunks to save memory\n",
    "for i in tqdm.tqdm_notebook(range(0,2751320,12506)):\n",
    "    if i == 0:\n",
    "        carts_clean = carts_expanded[i:i+12506]['items'].apply(pd.Series).reset_index()\n",
    "    else:\n",
    "        carts_clean = pd.concat((carts_clean,carts_expanded[i:i+12506]['items'].apply(pd.Series).reset_index()),axis=0)"
   ]
  },
  {
   "cell_type": "code",
   "execution_count": 27,
   "metadata": {},
   "outputs": [],
   "source": [
    "#persistência\n",
    "carts_clean.to_csv('data/carts_clean.csv',index=False)"
   ]
  },
  {
   "cell_type": "code",
   "execution_count": 9,
   "metadata": {},
   "outputs": [],
   "source": [
    "transactions_clean = carts_clean.merge(transactions, how='left', on='transaction_id')"
   ]
  },
  {
   "cell_type": "code",
   "execution_count": 12,
   "metadata": {},
   "outputs": [],
   "source": [
    "transactions_clean = transactions_clean.drop(['price','quantity','items', 'transaction_id'],axis=1)"
   ]
  },
  {
   "cell_type": "code",
   "execution_count": 23,
   "metadata": {},
   "outputs": [],
   "source": [
    "transactions_clean.to_csv('data/transactions_clean.csv',index=False)"
   ]
  },
  {
   "cell_type": "markdown",
   "metadata": {},
   "source": [
    "Geralmente, o que se faz ao testar um sistema de recomendação de uma forma simples, é utilizar como conjunto de teste a base inteira, e mascarar algumas interações do usuário na base de treino, de forma que se possa utilizar fatoração de matrizes no conjunto de treino, e verificar se o algoritmo consegue identificar uma interação que de fato ocorreu.\n",
    "\n",
    "Esse método (que infelizmente foi o que eu acabei fazendo), não reflete bem uma situação real, nem responde a pergunta de negócio da Chaordic. Para a Chaordic, não basta fazer uma recomendação que gere interesse no usuário, mas principalmente fazer uma recomendação que gere uma compra.\n",
    "\n",
    "Para responder essa pergunta, eu gostaria de ter dividido o conjunto de treino em teste de forma temporal, pelo timestamp. Na primeira metade do período (treino), eu consideraria as interações tanto de visualização quanto de compra. Na segunda metade do período (teste), eu consideraria apenas a interação de visualização, e mediria se o sistema de recomendação está recomendando itens que o usuário comprou. Desta forma, eu teria muito mais propriedade em apresentar o resultado para um cliente por exemplo.\n",
    "\n",
    "Infelizmente, não consegui colocar esta ideia em prática por questão de tempo."
   ]
  },
  {
   "cell_type": "code",
   "execution_count": 18,
   "metadata": {},
   "outputs": [
    {
     "name": "stdout",
     "output_type": "stream",
     "text": [
      "2017-12-04 21:52:24\n",
      "2018-01-19 15:13:35\n"
     ]
    }
   ],
   "source": [
    "print(min(views_data_clean.timestamp))\n",
    "print(max(views_data_clean.timestamp))"
   ]
  },
  {
   "cell_type": "code",
   "execution_count": 19,
   "metadata": {},
   "outputs": [
    {
     "name": "stdout",
     "output_type": "stream",
     "text": [
      "2017-11-01 00:00:03\n",
      "2018-01-05 10:47:40\n"
     ]
    }
   ],
   "source": [
    "print(min(transactions_clean.timestamp))\n",
    "print(max(transactions_clean.timestamp))"
   ]
  },
  {
   "cell_type": "markdown",
   "metadata": {},
   "source": [
    "Aqui podemos visualizar um gráfico onde o eixo x é cada um dos itens da minha base, e o eixo y é o número de visualizações. Podemos perceber que um grupo de itens populares são muito mais visualizados que o restante da base"
   ]
  },
  {
   "cell_type": "code",
   "execution_count": 22,
   "metadata": {},
   "outputs": [
    {
     "data": {
      "text/plain": [
       "<matplotlib.collections.PathCollection at 0x7f97495e86d8>"
      ]
     },
     "execution_count": 22,
     "metadata": {},
     "output_type": "execute_result"
    },
    {
     "data": {
      "image/png": "[encoded data removed]",
      "text/plain": [
       "<Figure size 432x288 with 1 Axes>"
      ]
     },
     "metadata": {},
     "output_type": "display_data"
    }
   ],
   "source": [
    "x=np.linspace(0,153979, num=153979)\n",
    "y=np.sort(views_data_clean.product_id.value_counts())\n",
    "plt.scatter(x,y)"
   ]
  },
  {
   "cell_type": "code",
   "execution_count": 2,
   "metadata": {},
   "outputs": [],
   "source": [
    "views_data_clean = pd.read_csv('data/views_data_clean.csv')"
   ]
  },
  {
   "cell_type": "code",
   "execution_count": 3,
   "metadata": {},
   "outputs": [],
   "source": [
    "transactions_clean = pd.read_csv('data/transactions_clean.csv')"
   ]
  },
  {
   "cell_type": "markdown",
   "metadata": {},
   "source": [
    "Depois de muitos testes com o sistema de recomendação que vou apresentar a seguir, eu tive que começar a cortar a base para que a matriz usuário-item não ficasse muito esparsa, o que fazia os resultados despencarem. Foram feitos dois tipos de corte:\n",
    "\n",
    "* Corte pelo número de visualizações\n",
    "* Corte pelo número de interações\n",
    "\n",
    "Estes cortes são interessantes, principalmente porque sistemas de recomendação colaborativos sofrem de cold start, ou seja, é difícil recomendar itens a usuários que interagiram pouco com os produtos.\n",
    "\n",
    "Para realizar o corte pelo número de visualizações, eu vi que a mediana de visualizações dos produtos é 23. Ao utilizar este valor, a matriz continuava muito esparsa. Então eu resolvi ir alterando o número de corte das visualizações de forma que eu não cortasse muito a base de transações. Considerando apenas produtos com mais de 1000 visualizações no período, eu estaria considerando 67.20% da base de transações"
   ]
  },
  {
   "cell_type": "code",
   "execution_count": 25,
   "metadata": {},
   "outputs": [
    {
     "data": {
      "text/plain": [
       "23.0"
      ]
     },
     "execution_count": 25,
     "metadata": {},
     "output_type": "execute_result"
    }
   ],
   "source": [
    "np.median(views_data_clean.product_id.value_counts())"
   ]
  },
  {
   "cell_type": "code",
   "execution_count": 4,
   "metadata": {},
   "outputs": [],
   "source": [
    "highly_searched_products = (views_data_clean.product_id.value_counts() >= 1000)\n",
    "highly_searched_products = highly_searched_products[highly_searched_products == True].reset_index()\n",
    "highly_searched_products = highly_searched_products.rename(columns={'index': 'product_id', 'product_id': 'cond'})"
   ]
  },
  {
   "cell_type": "code",
   "execution_count": 5,
   "metadata": {},
   "outputs": [
    {
     "name": "stdout",
     "output_type": "stream",
     "text": [
      "67.20% of the purchases have more than 1000 views\n"
     ]
    }
   ],
   "source": [
    "highly_searched_and_purchased = transactions_clean.merge(highly_searched_products, how='inner', on='product_id')\n",
    "print('{0:.2f}% of the purchases have more than 1000 views'.format((len(highly_searched_and_purchased)/len(transactions_clean))*100))"
   ]
  },
  {
   "cell_type": "markdown",
   "metadata": {},
   "source": [
    "Para o sistema de recomendação, eu decidi utilizar como interação implícita uma soma de força de eventos. A força de eventos consiste em somar o número de visualizações com o número de compras de um produto em relação a um usuário. \n",
    "\n",
    "Entretanto, é muito natural que eu tenha muito mais visualizações do que compra. Dessa forma, para suavizar a força dos eventos de visualização, eu decidi aplicar o logaritmo na base 2 nos valores das somas das visualizações."
   ]
  },
  {
   "cell_type": "code",
   "execution_count": 6,
   "metadata": {},
   "outputs": [],
   "source": [
    "highly_searched_and_viewed = views_data_clean.merge(highly_searched_products, how='inner', on='product_id')\n",
    "highly_searched_and_viewed = highly_searched_and_viewed.groupby(['browser_id','product_id']).count().cond.reset_index()\n",
    "\n",
    "highly_searched_and_viewed['event_strength'] = np.log(highly_searched_and_viewed.cond+1)\n",
    "highly_searched_and_viewed = highly_searched_and_viewed.drop('cond',axis=1)"
   ]
  },
  {
   "cell_type": "markdown",
   "metadata": {},
   "source": [
    "Este gráfico mostra o histograma das forças dos eventos de visualizações, após a aplicação do logaritmo. Podemos verificar que raramente a força de um evento de visualização vai ultrapassar 5, que é a força de um evento de compra."
   ]
  },
  {
   "cell_type": "code",
   "execution_count": 39,
   "metadata": {
    "scrolled": true
   },
   "outputs": [
    {
     "data": {
      "text/plain": [
       "<matplotlib.axes._subplots.AxesSubplot at 0x7f96ea4ad2e8>"
      ]
     },
     "execution_count": 39,
     "metadata": {},
     "output_type": "execute_result"
    },
    {
     "data": {
      "image/png": "[encoded data removed]",
      "text/plain": [
       "<Figure size 432x288 with 1 Axes>"
      ]
     },
     "metadata": {},
     "output_type": "display_data"
    }
   ],
   "source": [
    "highly_searched_and_viewed.event_strength.plot('hist')"
   ]
  },
  {
   "cell_type": "code",
   "execution_count": 7,
   "metadata": {},
   "outputs": [],
   "source": [
    "#limpeza para liberar memória\n",
    "del views_data_clean"
   ]
  },
  {
   "cell_type": "markdown",
   "metadata": {},
   "source": [
    "Assim como na visualizações, determinei que cada compra é traduzida em uma força do evento, e que quando um usuário realiza uma compra, esse evento tem força 5:"
   ]
  },
  {
   "cell_type": "code",
   "execution_count": 8,
   "metadata": {},
   "outputs": [],
   "source": [
    "highly_searched_and_purchased = highly_searched_and_purchased.groupby(['browser_id','product_id']).count().cond.reset_index()\n",
    "highly_searched_and_purchased['event_strength'] = 5\n",
    "highly_searched_and_purchased = highly_searched_and_purchased.drop(['cond'],axis=1)"
   ]
  },
  {
   "cell_type": "markdown",
   "metadata": {},
   "source": [
    "Ao unir as duas bases e somar as interações de cada browser_id e produtct_id, eu crio minha base de interações, composta pelo browser_id, product_id e força do evento, pronto para ser utilizado em um sistema de recomendação"
   ]
  },
  {
   "cell_type": "code",
   "execution_count": 9,
   "metadata": {},
   "outputs": [],
   "source": [
    "interactions_df = highly_searched_and_purchased.append(highly_searched_and_viewed)\n",
    "interactions_df = interactions_df.groupby(['browser_id','product_id']).sum().reset_index()"
   ]
  },
  {
   "cell_type": "code",
   "execution_count": 42,
   "metadata": {},
   "outputs": [
    {
     "data": {
      "text/html": [
       "<div>\n",
       "<style scoped>\n",
       "    .dataframe tbody tr th:only-of-type {\n",
       "        vertical-align: middle;\n",
       "    }\n",
       "\n",
       "    .dataframe tbody tr th {\n",
       "        vertical-align: top;\n",
       "    }\n",
       "\n",
       "    .dataframe thead th {\n",
       "        text-align: right;\n",
       "    }\n",
       "</style>\n",
       "<table border=\"1\" class=\"dataframe\">\n",
       "  <thead>\n",
       "    <tr style=\"text-align: right;\">\n",
       "      <th></th>\n",
       "      <th>browser_id</th>\n",
       "      <th>product_id</th>\n",
       "      <th>event_strength</th>\n",
       "    </tr>\n",
       "  </thead>\n",
       "  <tbody>\n",
       "    <tr>\n",
       "      <th>0</th>\n",
       "      <td>00000af27a0bb1eed667e6eabdd167fe568ed315</td>\n",
       "      <td>161-0040-001</td>\n",
       "      <td>1.609438</td>\n",
       "    </tr>\n",
       "    <tr>\n",
       "      <th>1</th>\n",
       "      <td>00000af27a0bb1eed667e6eabdd167fe568ed315</td>\n",
       "      <td>879-8823-068</td>\n",
       "      <td>0.693147</td>\n",
       "    </tr>\n",
       "    <tr>\n",
       "      <th>2</th>\n",
       "      <td>00000af27a0bb1eed667e6eabdd167fe568ed315</td>\n",
       "      <td>879-9017-004</td>\n",
       "      <td>1.098612</td>\n",
       "    </tr>\n",
       "    <tr>\n",
       "      <th>3</th>\n",
       "      <td>00000af27a0bb1eed667e6eabdd167fe568ed315</td>\n",
       "      <td>D12-2346-026</td>\n",
       "      <td>0.693147</td>\n",
       "    </tr>\n",
       "    <tr>\n",
       "      <th>4</th>\n",
       "      <td>00000af27a0bb1eed667e6eabdd167fe568ed315</td>\n",
       "      <td>D12-2346-788</td>\n",
       "      <td>0.693147</td>\n",
       "    </tr>\n",
       "  </tbody>\n",
       "</table>\n",
       "</div>"
      ],
      "text/plain": [
       "                                 browser_id    product_id  event_strength\n",
       "0  00000af27a0bb1eed667e6eabdd167fe568ed315  161-0040-001        1.609438\n",
       "1  00000af27a0bb1eed667e6eabdd167fe568ed315  879-8823-068        0.693147\n",
       "2  00000af27a0bb1eed667e6eabdd167fe568ed315  879-9017-004        1.098612\n",
       "3  00000af27a0bb1eed667e6eabdd167fe568ed315  D12-2346-026        0.693147\n",
       "4  00000af27a0bb1eed667e6eabdd167fe568ed315  D12-2346-788        0.693147"
      ]
     },
     "execution_count": 42,
     "metadata": {},
     "output_type": "execute_result"
    }
   ],
   "source": [
    "interactions_df.head()"
   ]
  },
  {
   "cell_type": "code",
   "execution_count": 10,
   "metadata": {},
   "outputs": [],
   "source": [
    "#limpeza para liberar memória\n",
    "del highly_searched_and_purchased, highly_searched_and_viewed, highly_searched_products"
   ]
  },
  {
   "cell_type": "markdown",
   "metadata": {},
   "source": [
    "Para finalizar a minha base, eu realizei o segundo corte, que é considerando o número de interações de cada usuário. A mediana neste caso é 3, mas acabei utilizando 8 visualizações como limiar de corte da base, fazendo com que eu reduzisse a minha base inicial de transações para 22.72%.\n",
    "\n",
    "Eu já tinha percebido faz tempo, mas neste momento em especial eu confirmei para mim mesmo o quanto difícil é criar um sistema de recomendaão que seja aplicado na vida real. Serão muitos produtos (em torno de 80k na minha base), e muitos usuários (2 milhões em apenas dois meses), e a matriz que se cria para um algoritmo comum como o que eu utilizei se torna muito esparsa. Neste momento, eu também fiquei muito interessado em como esses problemas são tratados pela Chaordic. \n",
    "\n",
    "Eu imagino que sistemas colaborativos devem passar por cortes na base, assim como eu fiz, mas principalmente deve existir outros sistemas de recomendação, para gerar um sistema híbrido. Como eu não tinha muita informação sobre os produtos ou usuários, acabei não realizando este tipo de sistema. De qualquer forma, deu pra sentir a dificuldade."
   ]
  },
  {
   "cell_type": "code",
   "execution_count": 44,
   "metadata": {},
   "outputs": [
    {
     "data": {
      "text/plain": [
       "3.0"
      ]
     },
     "execution_count": 44,
     "metadata": {},
     "output_type": "execute_result"
    }
   ],
   "source": [
    "np.median(interactions_df.groupby('browser_id').count().product_id)"
   ]
  },
  {
   "cell_type": "code",
   "execution_count": 11,
   "metadata": {},
   "outputs": [],
   "source": [
    "highly_interacting_users = (interactions_df.browser_id.value_counts() >= 8)\n",
    "highly_interacting_users = highly_interacting_users[highly_interacting_users == True].reset_index()\n",
    "highly_interacting_users = highly_interacting_users.rename(columns={'index': 'browser_id', 'browser_id': 'cond'})\n"
   ]
  },
  {
   "cell_type": "code",
   "execution_count": 27,
   "metadata": {},
   "outputs": [
    {
     "name": "stdout",
     "output_type": "stream",
     "text": [
      "22.72% of the transactions are made by users that have more than 8 interactions.\n"
     ]
    }
   ],
   "source": [
    "highly_interacting_users_activity = transactions_clean.merge(highly_interacting_users, how='inner', on='browser_id')\n",
    "print('{0:.2f}% of the transactions are made by users that have more than 8 interactions.'.format((len(highly_interacting_users_activity.browser_id.unique())/len(transactions_clean.browser_id.unique()))*100))"
   ]
  },
  {
   "cell_type": "code",
   "execution_count": 12,
   "metadata": {},
   "outputs": [],
   "source": [
    "#limpeza para liberar memória\n",
    "del transactions_clean"
   ]
  },
  {
   "cell_type": "markdown",
   "metadata": {},
   "source": [
    "Depois de limpar a base através dos dois cortes (número de visualizações e número de interações), eu verifico que a minha base possui 424k usuários e 7313 itens."
   ]
  },
  {
   "cell_type": "code",
   "execution_count": 54,
   "metadata": {},
   "outputs": [
    {
     "data": {
      "text/plain": [
       "424396"
      ]
     },
     "execution_count": 54,
     "metadata": {},
     "output_type": "execute_result"
    }
   ],
   "source": [
    "len(highly_interacting_users.browser_id.unique())"
   ]
  },
  {
   "cell_type": "code",
   "execution_count": 61,
   "metadata": {},
   "outputs": [
    {
     "data": {
      "text/plain": [
       "7313"
      ]
     },
     "execution_count": 61,
     "metadata": {},
     "output_type": "execute_result"
    }
   ],
   "source": [
    "len(highly_interacting_users.product_id.unique())"
   ]
  },
  {
   "cell_type": "code",
   "execution_count": 13,
   "metadata": {},
   "outputs": [],
   "source": [
    "highly_interacting_users = interactions_df.merge(highly_interacting_users, how='inner', on='browser_id').drop(['cond'],axis=1)"
   ]
  },
  {
   "cell_type": "code",
   "execution_count": 59,
   "metadata": {},
   "outputs": [
    {
     "data": {
      "text/html": [
       "<div>\n",
       "<style scoped>\n",
       "    .dataframe tbody tr th:only-of-type {\n",
       "        vertical-align: middle;\n",
       "    }\n",
       "\n",
       "    .dataframe tbody tr th {\n",
       "        vertical-align: top;\n",
       "    }\n",
       "\n",
       "    .dataframe thead th {\n",
       "        text-align: right;\n",
       "    }\n",
       "</style>\n",
       "<table border=\"1\" class=\"dataframe\">\n",
       "  <thead>\n",
       "    <tr style=\"text-align: right;\">\n",
       "      <th></th>\n",
       "      <th>browser_id</th>\n",
       "      <th>product_id</th>\n",
       "      <th>event_strength</th>\n",
       "    </tr>\n",
       "  </thead>\n",
       "  <tbody>\n",
       "    <tr>\n",
       "      <th>0</th>\n",
       "      <td>00000af27a0bb1eed667e6eabdd167fe568ed315</td>\n",
       "      <td>161-0040-001</td>\n",
       "      <td>1.609438</td>\n",
       "    </tr>\n",
       "    <tr>\n",
       "      <th>1</th>\n",
       "      <td>00000af27a0bb1eed667e6eabdd167fe568ed315</td>\n",
       "      <td>879-8823-068</td>\n",
       "      <td>0.693147</td>\n",
       "    </tr>\n",
       "    <tr>\n",
       "      <th>2</th>\n",
       "      <td>00000af27a0bb1eed667e6eabdd167fe568ed315</td>\n",
       "      <td>879-9017-004</td>\n",
       "      <td>1.098612</td>\n",
       "    </tr>\n",
       "    <tr>\n",
       "      <th>3</th>\n",
       "      <td>00000af27a0bb1eed667e6eabdd167fe568ed315</td>\n",
       "      <td>D12-2346-026</td>\n",
       "      <td>0.693147</td>\n",
       "    </tr>\n",
       "    <tr>\n",
       "      <th>4</th>\n",
       "      <td>00000af27a0bb1eed667e6eabdd167fe568ed315</td>\n",
       "      <td>D12-2346-788</td>\n",
       "      <td>0.693147</td>\n",
       "    </tr>\n",
       "  </tbody>\n",
       "</table>\n",
       "</div>"
      ],
      "text/plain": [
       "                                 browser_id    product_id  event_strength\n",
       "0  00000af27a0bb1eed667e6eabdd167fe568ed315  161-0040-001        1.609438\n",
       "1  00000af27a0bb1eed667e6eabdd167fe568ed315  879-8823-068        0.693147\n",
       "2  00000af27a0bb1eed667e6eabdd167fe568ed315  879-9017-004        1.098612\n",
       "3  00000af27a0bb1eed667e6eabdd167fe568ed315  D12-2346-026        0.693147\n",
       "4  00000af27a0bb1eed667e6eabdd167fe568ed315  D12-2346-788        0.693147"
      ]
     },
     "execution_count": 59,
     "metadata": {},
     "output_type": "execute_result"
    }
   ],
   "source": [
    "highly_interacting_users.head()"
   ]
  },
  {
   "cell_type": "markdown",
   "metadata": {},
   "source": [
    "## Sistema de Recomendação"
   ]
  },
  {
   "cell_type": "markdown",
   "metadata": {},
   "source": [
    "Aqui eu estou destrinchando o meu dataframe para transformá-lo em uma matriz esparsa, definida apenas com os índices do elemento, para salvar memória."
   ]
  },
  {
   "cell_type": "code",
   "execution_count": 14,
   "metadata": {},
   "outputs": [
    {
     "name": "stderr",
     "output_type": "stream",
     "text": [
      "/home/amenegola/anaconda3/lib/python3.6/site-packages/ipykernel_launcher.py:11: FutureWarning: specifying 'categories' or 'ordered' in .astype() is deprecated; pass a CategoricalDtype instead\n",
      "  # This is added back by InteractiveShellApp.init_path()\n",
      "/home/amenegola/anaconda3/lib/python3.6/site-packages/ipykernel_launcher.py:12: FutureWarning: specifying 'categories' or 'ordered' in .astype() is deprecated; pass a CategoricalDtype instead\n",
      "  if sys.path[0] == '':\n"
     ]
    }
   ],
   "source": [
    "# Get our unique customers\n",
    "customers = list(np.sort(highly_interacting_users.browser_id.unique())) \n",
    "\n",
    "# Get our unique products that were purchased\n",
    "products = list(highly_interacting_users.product_id.unique()) \n",
    "\n",
    "# All of our purchases\n",
    "quantity = list(highly_interacting_users.event_strength) \n",
    "\n",
    "#Find rows and cols in the sparse matrix to create a sparse matrix\n",
    "rows = highly_interacting_users.browser_id.astype('category', categories = customers).cat.codes \n",
    "cols = highly_interacting_users.product_id.astype('category', categories = products).cat.codes \n",
    "purchases_sparse = sparse.csr_matrix((quantity, (rows, cols)), shape=(len(customers), len(products)))"
   ]
  },
  {
   "cell_type": "markdown",
   "metadata": {},
   "source": [
    "Verificando a esparsidade da matriz, obtemos 99.71% de esparsidade. Eu vi em alguns blogs que o ideal é ter uma esparsidade menor que 99.5%. Isso significa que não terei resultados muito bons no sistema de recomendação (mas bem melhores de quando eu não fazia nenhum corte e a esparsidade girava em torno de 99.98%)"
   ]
  },
  {
   "cell_type": "code",
   "execution_count": 15,
   "metadata": {},
   "outputs": [
    {
     "data": {
      "text/plain": [
       "99.7102248044636"
      ]
     },
     "execution_count": 15,
     "metadata": {},
     "output_type": "execute_result"
    }
   ],
   "source": [
    "matrix_size = purchases_sparse.shape[0]*purchases_sparse.shape[1]\n",
    "num_purchases = len(purchases_sparse.nonzero()[0]) \n",
    "sparsity = 100*(1 - (num_purchases/matrix_size))\n",
    "sparsity"
   ]
  },
  {
   "cell_type": "markdown",
   "metadata": {},
   "source": [
    "Finalmente, posso separar a minha base em conjuntos de treino e teste. Vou fazer do jeito mais simples, que é mascarar interações no conjunto de treino e ver se essas interações aparecem na recomendação:"
   ]
  },
  {
   "cell_type": "code",
   "execution_count": 39,
   "metadata": {},
   "outputs": [
    {
     "data": {
      "text/plain": [
       "<matplotlib.image.AxesImage at 0x7ff5c29bd0f0>"
      ]
     },
     "execution_count": 39,
     "metadata": {},
     "output_type": "execute_result"
    },
    {
     "data": {
      "image/png": "[encoded data removed]",
      "text/plain": [
       "<Figure size 864x792 with 1 Axes>"
      ]
     },
     "metadata": {},
     "output_type": "display_data"
    }
   ],
   "source": [
    "im = Image.open('MaskTrain.png')\n",
    "plt.figure(figsize=(12,11))\n",
    "plt.imshow(im)"
   ]
  },
  {
   "cell_type": "code",
   "execution_count": 16,
   "metadata": {},
   "outputs": [],
   "source": [
    "import random\n",
    "\n",
    "def make_train(ratings, pct_test = 0.2):\n",
    "    \n",
    "    # Make a copy of the original set to be the test set. \n",
    "    test_set = ratings.copy() \n",
    "    \n",
    "    # Make a copy of the original data we can alter as our training set. \n",
    "    training_set = ratings.copy() \n",
    "    \n",
    "    # Find the indices in the ratings data where an interaction exists\n",
    "    nonzero_inds = training_set.nonzero() \n",
    "    \n",
    "    # Zip these pairs together of user,item index into list\n",
    "    nonzero_pairs = list(zip(nonzero_inds[0], nonzero_inds[1]))\n",
    "    \n",
    "    # Set the random seed to zero for reproducibility\n",
    "    random.seed(0)\n",
    "    \n",
    "    # Round the number of samples needed to the nearest integer\n",
    "    num_samples = int(np.ceil(pct_test*len(nonzero_pairs)))\n",
    "    \n",
    "    # Sample a random number of user-item pairs without replacement\n",
    "    samples = random.sample(nonzero_pairs, num_samples) \n",
    "    \n",
    "    # Get the user row indices\n",
    "    user_inds = [index[0] for index in samples] \n",
    "    \n",
    "    # Get the item column indices\n",
    "    item_inds = [index[1] for index in samples]\n",
    "    \n",
    "    # Assign all of the randomly chosen user-item pairs to zero\n",
    "    training_set[user_inds, item_inds] = 0\n",
    "    \n",
    "    # Get rid of zeros in sparse array storage after update to save space\n",
    "    training_set.eliminate_zeros()\n",
    "    \n",
    "    return training_set, test_set, list(set(user_inds)) "
   ]
  },
  {
   "cell_type": "code",
   "execution_count": 17,
   "metadata": {},
   "outputs": [],
   "source": [
    "product_train, product_test, product_users_altered = make_train(purchases_sparse, pct_test = 0.2)"
   ]
  },
  {
   "cell_type": "markdown",
   "metadata": {},
   "source": [
    "Aqui eu fiz alguns testes para escolher hiperparâmetros. Basicamente, aumentar o valor de alpha, fatores e iterações, e diminuir regularização, aumenta os resultados, mas o que mais impacta é o número de fatores. Com 20 fatores, precision@5 e recall@5 girava em torno de 4~6%, enquanto que aumentando o número de fatores para 400, o resultado aumenta, conforme veremos a seguir.\n",
    "\n",
    "Eu utilizei a biblioteca que tem o algoritmo ALS para fatorização das matrizes. Sua computação pode ser paralelizada, portanto, mais rápida."
   ]
  },
  {
   "cell_type": "code",
   "execution_count": 42,
   "metadata": {},
   "outputs": [
    {
     "name": "stderr",
     "output_type": "stream",
     "text": [
      "This method is deprecated. Please use the AlternatingLeastSquares class instead\n",
      "WARNING:root:OpenBLAS detected. Its highly recommend to set the environment variable 'export OPENBLAS_NUM_THREADS=1' to disable its internal multithreading\n"
     ]
    }
   ],
   "source": [
    "alpha = 60\n",
    "user_vecs, item_vecs = implicit.alternating_least_squares((product_train*alpha).astype('double'), \n",
    "                                                          factors=400, \n",
    "                                                          regularization = 0.5, \n",
    "                                                          iterations = 100)"
   ]
  },
  {
   "cell_type": "markdown",
   "metadata": {},
   "source": [
    "Ao todo, em torno de 400k usuários tiveram suas interações alteradas pelo algoritmo que separa os conjuntos de treino e teste. Como eu tenho que multiplicar o vetor de usuário pela de itens, eu resolvi medir as métricas de recall e precision com apenas 50k usuários, para maior velocidade em obter os resultados.\n",
    "\n",
    "O código abaixo verifica quais interações foram apagadas a partir do conjunto de teste, e mede precision e recall @5 e 10, além de AUC, do modelo colaborativo (CF). Para comparação, eu estou também realizando medições com um modelo de popularidade (Pop), oferecendo os itens mais populares em termos de força de evento como recomendação."
   ]
  },
  {
   "cell_type": "code",
   "execution_count": null,
   "metadata": {
    "scrolled": true
   },
   "outputs": [],
   "source": [
    "#iterations = 100\n",
    "#alpha = 60\n",
    "#regularization = 0.5\n",
    "#factors = 400\n",
    "def auc_score(predictions, test):\n",
    "    return metrics.roc_auc_score(test, predictions) \n",
    "\n",
    "def precision(predicted, actual, k):\n",
    "    act_set = set(actual)\n",
    "    pred_set = set(predicted[:k])\n",
    "    result = len(act_set & pred_set) / float(k)\n",
    "    return result\n",
    "\n",
    "def recall(predicted, actual, k):\n",
    "    act_set = set(actual)\n",
    "    pred_set = set(predicted[:k])\n",
    "    result = len(act_set & pred_set) / float(len(actual))\n",
    "    return result\n",
    "\n",
    "def process_user(user, training_set, user_vecs_test, item_vecs_test, test_set, pop_items):\n",
    "    # Get the training set row\n",
    "    training_row = training_set[user,:].toarray().reshape(-1) \n",
    "\n",
    "    # Find where the interaction had not yet occurred\n",
    "    zero_inds = list(np.where(training_row == 0)[0])\n",
    "    \n",
    "    # Get the predicted values based on our user/item vectors\n",
    "    user_vec = user_vecs_test[user]\n",
    "\n",
    "    #get prediction for a user\n",
    "    pred = user_vec.dot(item_vecs_test.T)[zero_inds]\n",
    "    \n",
    "    #get reverse sorted indices to put in front the most probable items to recommend\n",
    "    pred_indices = np.argsort(-pred)\n",
    "    \n",
    "    #get the indices of the items that were not seen on test set\n",
    "    actual_indices = np.nonzero(test_set[user,:].toarray()[0,zero_inds].reshape(-1))[0]\n",
    "    \n",
    "    #binarize test_set to calculate AUC\n",
    "    test_set_auc = test_set.copy()\n",
    "    test_set_auc[test_set_auc != 0] = 1\n",
    "    actual_auc = test_set_auc[user,:].toarray()[0,zero_inds].reshape(-1)\n",
    "    \n",
    "    # Select the binarized yes/no interaction pairs from the original full data\n",
    "    # that align with the same pairs in training \n",
    "    \n",
    "    # Get the item popularity for our chosen items\n",
    "    pop = pop_items[zero_inds] \n",
    "    pop_indices = np.argsort(-pop)\n",
    "    \n",
    "    #return list with all metrics for each user\n",
    "    return [auc_score(pred, actual_auc), \n",
    "            auc_score(pop, actual_auc), \n",
    "            precision(pred_indices, actual_indices, 5), \n",
    "            precision(pop_indices, actual_indices, 5), \n",
    "            precision(pred_indices, actual_indices, 10), \n",
    "            precision(pop_indices, actual_indices, 10), \n",
    "            recall(pred_indices, actual_indices, 5), \n",
    "            recall(pop_indices, actual_indices, 5), \n",
    "            recall(pred_indices, actual_indices, 10), \n",
    "            recall(pop_indices, actual_indices, 10)]\n",
    "\n",
    "def calc_metrics(training_set, altered_users, user_vecs, item_vecs, test_set):\n",
    "    \n",
    "    # Get sum of item iteractions to find most popular\n",
    "    pop_items = np.array(test_set.sum(axis = 0)).reshape(-1) \n",
    "    \n",
    "    #list comprehesion to loop over the test users\n",
    "    output_metrics = [process_user(user, training_set, user_vecs, item_vecs, test_set, pop_items) for user in altered_users]       \n",
    "    output_metrics = np.sum(output_metrics,axis=0)/len(altered_users)\n",
    "    return output_metrics \n",
    "            \n",
    "metrics_out = calc_metrics(product_train, \n",
    "                            product_users_altered[:50000], \n",
    "                            user_vecs, \n",
    "                            item_vecs, \n",
    "                            product_test)\n",
    "\n",
    "print('CF AUC: {0:.2f} / Pop AUC: {1:.2f}'.format(metrics_out[0]*100,metrics_out[1]*100))\n",
    "print('CF Precision@5: {0:.2f} / Pop Precision@5: {1:.2f}'.format(metrics_out[2]*100,metrics_out[3]*100))\n",
    "print('CF Precision@10: {0:.2f} / Pop Precision@10: {1:.2f}'.format(metrics_out[4]*100,metrics_out[5]*100))\n",
    "print('CF Recall@5: {0:.2f} / Pop Recall@5: {1:.2f}'.format(metrics_out[6]*100,metrics_out[7]*100))\n",
    "print('CF Recall@10: {0:.2f} / Pop Recall@10: {1:.2f}'.format(metrics_out[8]*100,metrics_out[9]*100))"
   ]
  },
  {
   "cell_type": "markdown",
   "metadata": {},
   "source": [
    "Começando a análise pelo modelo de popularidade, é notável a diferença com o modelo colaborativo. A literatura afirma que modelos de popularidade são ótimos modelos, e às vezes difícil de ser batido. Isso faz sentido, pois é bastante natural oferecer produtos mais vendidos. Eu não consegui investigar mais a fundo este modelo, mas eu tenho duas hipóteses para explicar o baixo resultado. A primeira é que, geralmente, a literatura não trata de uma quantidade tão grande de itens e usuários. Portanto, uma grande massa de usuários pode estar comprando itens não tão populares, impactando no resultado. A outra hipótese é que eu não meço popularidade como número de visualizações ou número de compras, mas sim como força de evento. Como eu estou suavizando a força das visualizações com um logaritmo, isto pode estar impactando no resultado.\n",
    "\n",
    "Em relação ao modelo colaborativo, nota-se que os valores de precision e recall são razoavelmente baixos, mas tendo em vista a alta esparsidade da matriz, eu não achei tão baixo. Com certeza existe espaço para mais análises dos dados, melhorias no modelo, de forma a aumentar estes valores. \n",
    "\n",
    "Particularmente, eu gosto mais da métrica Recall para analisar o desempenho do sistema de recomendação, porque me parece mais natural eu medir quantas recomendações eu acertei de acordo com quantos produtos a pessoa interagiu. Por exemplo, pode ser que uma pessoa tenha um interesse intrínseco por apenas dois produtos. Se eu oferecer 5 recomendações, mesmo que certas do ponto de vista de recomendação, a pessoa continuaria interessada em apenas dois produtos. Por isso, eu vejo a métrica precisão como uma métrica muito pessimista (apesar de achar que pessimismo - considerar sempre o pior caso - é bom na área de machine learning).\n",
    "\n",
    "Em resumo, o meu sistema acerta pouco na mosca (precisão) mas tem resultados interessantes do ponto de vista de relevância dos produtos recomendados (recall)."
   ]
  },
  {
   "cell_type": "markdown",
   "metadata": {},
   "source": [
    "## API\n",
    "\n",
    "Para simular um ponto de início de um sistema que possa ser utilizado em produção, desenvolvi uma API com Flask que recebe um arquivo JSON com as informações de visualização de uma página, que pode ser gerado quando um usuário entra em uma página do cliente, e já retorna os 10 itens mais prováveis de recomendação. \n",
    "\n",
    "Abaixo, temos uma arquitetura de referência para aplicações Big Data, e acredito que a Chaordic deva ser estruturada mais ou menos dessa forma. Com o código abaixo, eu obtenho uma pequena visualização do que pode ser as camadas de ingestão de dados (Data Ingestion & Data Collector layers) e armazenamento (Data Storage Layer)"
   ]
  },
  {
   "cell_type": "code",
   "execution_count": 49,
   "metadata": {},
   "outputs": [
    {
     "data": {
      "text/plain": [
       "<matplotlib.image.AxesImage at 0x7ff57ef99eb8>"
      ]
     },
     "execution_count": 49,
     "metadata": {},
     "output_type": "execute_result"
    },
    {
     "data": {
      "image/png": "[encoded data removed]",
      "text/plain": [
       "<Figure size 864x792 with 1 Axes>"
      ]
     },
     "metadata": {},
     "output_type": "display_data"
    }
   ],
   "source": [
    "im = Image.open('big-data-framework.png')\n",
    "plt.figure(figsize=(12,11))\n",
    "plt.imshow(im)"
   ]
  },
  {
   "cell_type": "markdown",
   "metadata": {},
   "source": [
    "Como fazer um produto escalar entre os vetores de usuário e itens consome muito tempo, eu primeiro vou salvar as predições do meu modelo no database não relacional MongoDB. Desta forma, durante a execução da API, eu apenas busco as recomendações do meu banco de dados.\n",
    "\n",
    "O código abaixo salva as predições em um database do MongoDB, além de já criar o arquivo flat com as predições requisitados pelo desafio:"
   ]
  },
  {
   "cell_type": "code",
   "execution_count": 52,
   "metadata": {},
   "outputs": [],
   "source": [
    "from pymongo import MongoClient\n",
    "\n",
    "#create MongoDB client\n",
    "client = MongoClient('mongodb://localhost:27017')\n",
    "\n",
    "#create database chaordic_data and two collections, \n",
    "# one for page view information and other for recommendations\n",
    "db = client.chaordic_data\n",
    "user_data = db.user_data\n",
    "recommendations = db.recommendations\n",
    "\n",
    "for i in range(product_test.shape[0]):\n",
    "    # Get the training set row\n",
    "    test_row = product_test[i,:].toarray().reshape(-1) \n",
    "    \n",
    "    # Find where the interaction had not yet occurred\n",
    "    zero_inds = list(np.where(test_row == 0)[0]) \n",
    "    \n",
    "    user_vec = user_vecs[i,:]\n",
    "    pred = user_vec.dot(item_vecs.T)[zero_inds].reshape(-1)\n",
    "    pred_indices = np.argsort(-pred)[:10] #get first ten suggestions\n",
    "    \n",
    "    #create dic for each browser_id\n",
    "    browser_id = customers[i]\n",
    "    product_id = []\n",
    "    for prod_index in pred_indices:\n",
    "        product_id.append(products[prod_index])\n",
    "    \n",
    "    pred_dict = {'browser_id':browser_id,\n",
    "                 'items': product_id\n",
    "                }\n",
    "    \n",
    "    result = recommendations.insert_one(pred_dict)\n",
    "    \n",
    "    with open(\"flat_file.ndjson\", \"a\") as f:\n",
    "        f.write(str(pred_dict)+\"\\n\")"
   ]
  },
  {
   "cell_type": "markdown",
   "metadata": {},
   "source": [
    "Finalmente, podemos definir a API abaixo que coleta o JSON gerado pelo page view, salva essa informação no banco de dados, busca a recomendação para o browser_id em questão, e retorna ao cliente um JSON com um array de itens para serem recomendados:"
   ]
  },
  {
   "cell_type": "code",
   "execution_count": null,
   "metadata": {},
   "outputs": [],
   "source": [
    "from flask import Flask, jsonify, request\n",
    "from pymongo import MongoClient\n",
    "\n",
    "client = MongoClient('mongodb://localhost:27017')\n",
    "db = client.chaordic_data\n",
    "user_data = db.user_data\n",
    "recommendations = db.recommendations\n",
    "\n",
    "app = Flask(__name__)\n",
    "\n",
    "@app.route('/chaordic_api', methods=['POST'])\n",
    "def apicall():\n",
    "    \n",
    "    #get json input correctly\n",
    "    try:\n",
    "        post_data = request.get_json()\n",
    "    except Exception as e:\n",
    "        raise e\n",
    "\n",
    "    if not post_data:\n",
    "        return(bad_request())\n",
    "    else:\n",
    "        #saves page view info inside mongodb database\n",
    "        result = user_data.insert_one(post_data)\n",
    "    \n",
    "        #get user browser_id for recommendation prediction\n",
    "        browser_id = post_data['browser_id']\n",
    "        \n",
    "        #find recommendation that was previously saved on MongoDB\n",
    "        browser_recomm = db.recommendations.find({'browser_id':browser_id})[0]\n",
    "        del browser_recomm['_id']\n",
    "        \n",
    "        #output response with recommendations\n",
    "        responses = jsonify(browser_recomm)\n",
    "        responses.status_code = 200\n",
    "\n",
    "        return (responses)\n",
    "\n",
    "#runs api on port 8080\n",
    "if __name__ == '__main__':\n",
    "     app.run(port=8080)"
   ]
  },
  {
   "cell_type": "markdown",
   "metadata": {},
   "source": [
    "Abaixo verificamos a API em funcionamento:"
   ]
  },
  {
   "cell_type": "code",
   "execution_count": 57,
   "metadata": {},
   "outputs": [],
   "source": [
    "#Setting the headers to send and accept json responses\n",
    "header = {'Content-Type': 'application/json', \\\n",
    "                  'Accept': 'application/json'}\n",
    "\n",
    "#creating page view info\n",
    "data_json = {'browser_id': '00000af27a0bb1eed667e6eabdd167fe568ed315',\n",
    "              'price': 949.9,\n",
    "              'product_id': 'C62-1129-032',\n",
    "              'source': 'desktop',\n",
    "              'timestamp': '2017-12-04 21:52:24',\n",
    "              'user_id': '2e9fd3d80f230b7a8f3f6341f6e889769e14b8f6'}\n",
    "\n",
    "#running POST on API\n",
    "resp = requests.post(\"http://127.0.0.1:8080/chaordic_api\", \\\n",
    "                    data = json.dumps(data_json),\\\n",
    "                    headers= header)"
   ]
  },
  {
   "cell_type": "code",
   "execution_count": 59,
   "metadata": {},
   "outputs": [
    {
     "data": {
      "text/plain": [
       "{'browser_id': '00000af27a0bb1eed667e6eabdd167fe568ed315',\n",
       " 'items': ['D12-1301-026',\n",
       "  'D13-5552-006',\n",
       "  'D13-9099-044',\n",
       "  'D12-8998-006',\n",
       "  'C62-1511-008',\n",
       "  'D12-3202-026',\n",
       "  'D12-0135-714',\n",
       "  'D22-0677-028',\n",
       "  'E25-0389-016',\n",
       "  'D18-1156-128']}"
      ]
     },
     "execution_count": 59,
     "metadata": {},
     "output_type": "execute_result"
    }
   ],
   "source": [
    "resp.json()"
   ]
  },
  {
   "cell_type": "markdown",
   "metadata": {},
   "source": [
    "# Conclusão\n",
    "\n",
    "As elaborações acima descrita com certeza não estão em ordem cronológica. Sabemos que, quando estamos em momento de prototipação, diversas hipóteses são testadas *e a maioria não funciona*.\n",
    "\n",
    "Em linhas gerais, o desafio já foi um enorme aprendizado, pois nunca tive a oportunidade de trabalhar com um dataset real em sistemas de recomendação. Posso nomear algumas dificuldades que enfrentei e que ainda poderia enfrentar:\n",
    "\n",
    "* A base, por ser grande, deve ser cuidadosamente analisada para que não se exista o desperdício de informações úteis. Eu tentei ao máximo cortar o mínimo possível, mas não estou satisfeito com a base final. Começaria realizando mais análises, para identificar um melhor ponto de corte. Outro fator que pode ajudar a diminuir a esparsidade é eu encontrar um id único para os browser_id e user_id (eu só considerei o browser_id).\n",
    "* Mesmo que eu realize análises mais extensas, é muito provável que a matriz usuário-item vai continuar muito esparsa. Uma ideia que eu tive é clusterizar usuários parecidos (em termos de preço de produto, por exemplo, mas posso tentar usar também a informação se é browser ou desktop) e gerar não um, mas vários sistemas colaborativos.\n",
    "* Acredito que, para que se possa obter resultados mais interessantes, é necessário um sistema híbrido. Por exemplo, realizar feature engineering nos produtos e usuários, para verificar a similaridade entre usuários-itens, e multiplicar ou tirar as médias dos scores.\n",
    "* Não consegui colocar a minha ideia de validação temporal em prática. Isto seria muito interessante, porque montando o problema dessa forma, eu não apenas vou ter um sistema de recomendação, mas um sistema de recomendação com um preditor de compra embutido.\n",
    "* Não consigo dizer se lidei com os dados de forma correta. Acredito que tenha que estudar mais sobre formas alternativas às que realizei ao tratar os dados. De uma forma ou outra, eu vou ter que estruturar os dados para colocar no meu algoritmo, a pergunta é *quando*.\n",
    "* Eu poderia ter realizado diversas otimizações, como por exemplo uma busca por melhores hiperparâmetros, outras formas de definir as forças dos eventos, mas acredito que este tipo de coisa não estava no escopo do desafio pelo limite de tempo.\n",
    "* Para escrever a API, acabei utilizando MongoDB por ser open source, mas como vocês armazenaram os dados no s3 da amazon, imagino que a infra de vocês deve ser toda na AWS. O código que escrevi pode ser adaptado para o DynamoDB.\n",
    "* A API que eu escrevi não está fazendo quase nada de tratamento de exceções. Eu deveria verificar se os valores e chaves do JSON que recebo são coerentes, se está faltando alguma chave ou valor, e diversas outras melhorias. Eu deveria me preocupar com chamadas simultâneas da API, escalabilidade.\n",
    "* A infraestrutura necessária para colocar a Chaordic para funcionar deve ser monstruosa (e muito bonita). APIs rodando em computação distribuída, streams de dados para os bancos de dados, todo problema de escalabilidade, fallback, engines de analytics, visualização de dados, segurança... É, de fato, uma aplicação completa muito interessante."
   ]
  }
 ],
 "metadata": {
  "kernelspec": {
   "display_name": "Python 3",
   "language": "python",
   "name": "python3"
  },
  "language_info": {
   "codemirror_mode": {
    "name": "ipython",
    "version": 3
   },
   "file_extension": ".py",
   "mimetype": "text/x-python",
   "name": "python",
   "nbconvert_exporter": "python",
   "pygments_lexer": "ipython3",
   "version": "3.6.2"
  }
 },
 "nbformat": 4,
 "nbformat_minor": 2
}
